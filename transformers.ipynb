{
 "cells": [
  {
   "cell_type": "code",
   "execution_count": 0,
   "metadata": {
    "application/vnd.databricks.v1+cell": {
     "cellMetadata": {},
     "inputWidgets": {},
     "nuid": "6759789e-5e89-4e86-8d88-aaed819b8b6b",
     "showTitle": false,
     "tableResultSettingsMap": {},
     "title": ""
    }
   },
   "outputs": [],
   "source": [
    "from pyspark.ml import Transformer\n",
    "from pyspark.sql.functions import when"
   ]
  },
  {
   "cell_type": "code",
   "execution_count": 0,
   "metadata": {
    "application/vnd.databricks.v1+cell": {
     "cellMetadata": {},
     "inputWidgets": {},
     "nuid": "ee9dc2b2-e014-4515-a752-95923cae45cf",
     "showTitle": false,
     "tableResultSettingsMap": {},
     "title": ""
    }
   },
   "outputs": [],
   "source": [
    "from pyspark.ml import Transformer\n",
    "from pyspark.sql.functions import when\n",
    "\n",
    "class Winsorizer(Transformer):\n",
    "    \"\"\"\n",
    "    Transformer that caps values in each of the specified inputCols at given quantiles.\n",
    "    \"\"\"\n",
    "    def __init__(self, inputCols, outputCols, lowerQuantile=0.05, upperQuantile=0.95):\n",
    "        super(Winsorizer, self).__init__()\n",
    "        assert len(inputCols) == len(outputCols), \"inputCols and outputCols must match lengths\"\n",
    "        self.inputCols = inputCols\n",
    "        self.outputCols = outputCols\n",
    "        self.lowerQuantile = lowerQuantile\n",
    "        self.upperQuantile = upperQuantile\n",
    "\n",
    "    def _transform(self, dataset):\n",
    "        df = dataset\n",
    "        # For each column, compute bounds on its training data and cap extremes\n",
    "        for inp, out in zip(self.inputCols, self.outputCols):\n",
    "            bounds = df.approxQuantile(inp, [self.lowerQuantile, self.upperQuantile], 0.0)\n",
    "            low, high = bounds[0], bounds[1]\n",
    "            df = df.withColumn(\n",
    "                out,\n",
    "                when(df[inp] < low, low)\n",
    "                .when(df[inp] > high, high)\n",
    "                .otherwise(df[inp])\n",
    "            )\n",
    "        return df"
   ]
  }
 ],
 "metadata": {
  "application/vnd.databricks.v1+notebook": {
   "computePreferences": null,
   "dashboards": [],
   "environmentMetadata": {
    "base_environment": "",
    "environment_version": "1"
   },
   "inputWidgetPreferences": null,
   "language": "python",
   "notebookMetadata": {
    "pythonIndentUnit": 4
   },
   "notebookName": "transformers",
   "widgets": {}
  }
 },
 "nbformat": 4,
 "nbformat_minor": 0
}